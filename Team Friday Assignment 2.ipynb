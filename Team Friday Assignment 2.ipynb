{
  "cells": [
    {
      "cell_type": "code",
      "execution_count": 2,
      "metadata": {
        "colab": {
          "base_uri": "https://localhost:8080/"
        },
        "id": "auh_62106psV",
        "outputId": "fd9ba017-d81f-41f6-a12a-49e923fefc11"
      },
      "outputs": [
        {
          "output_type": "stream",
          "name": "stdout",
          "text": [
            "Conditional Log Likelihood: -188.55975121418842\n",
            "Unconditional Log Likelihood: -158.3866139766513\n"
          ]
        }
      ],
      "source": [
        "#Coding the Likelihood Function\n",
        "import numpy as np\n",
        "from scipy.stats import norm\n",
        "\n",
        "def ar7_conditional_likelihood(params, data):\n",
        "    \"\"\"\n",
        "    Calculate the conditional log likelihood of an AR(7) model.\n",
        "\n",
        "    Args:\n",
        "        params (list): Parameters [phi1, phi2, ..., phi7, sigma^2].\n",
        "        data (array): Array of observed data.\n",
        "\n",
        "    Returns:\n",
        "        float: Conditional log likelihood value.\n",
        "    \"\"\"\n",
        "    phi = params[:-1]\n",
        "    sigma_squared = params[-1]\n",
        "    n = len(data)\n",
        "    conditional_ll = 0\n",
        "\n",
        "    # Calculate conditional log likelihood for each observation starting from the 8th\n",
        "    for t in range(7, n):\n",
        "        # Calculate conditional mean based on past 7 observations\n",
        "        mean = np.dot(phi, data[t-7:t][::-1])\n",
        "        # Calculate log likelihood contribution of current observation\n",
        "        conditional_ll += norm.logpdf(data[t], loc=mean, scale=np.sqrt(sigma_squared))\n",
        "\n",
        "    return conditional_ll\n",
        "\n",
        "def ar7_unconditional_likelihood(params, data):\n",
        "    \"\"\"\n",
        "    Calculate the unconditional log likelihood of an AR(7) model.\n",
        "\n",
        "    Args:\n",
        "        params (list): Parameters [phi1, phi2, ..., phi7, sigma^2].\n",
        "        data (array): Array of observed data.\n",
        "\n",
        "    Returns:\n",
        "        float: Unconditional log likelihood value.\n",
        "    \"\"\"\n",
        "    phi = params[:-1]\n",
        "    sigma_squared = params[-1]\n",
        "    n = len(data)\n",
        "    unconditional_ll = 0\n",
        "\n",
        "    # Calculate the unconditional mean of the AR(7) process\n",
        "    mu = np.dot(phi, data[:7][::-1])\n",
        "\n",
        "    # Calculate unconditional log likelihood for each observation\n",
        "    for t in range(n):\n",
        "        # Calculate log likelihood contribution of current observation using unconditional mean\n",
        "        unconditional_ll += norm.logpdf(data[t], loc=mu, scale=np.sqrt(sigma_squared))\n",
        "\n",
        "    return unconditional_ll\n",
        "\n",
        "# Example:\n",
        "# Define some sample data and initial parameters\n",
        "data = np.random.normal(size=100)  # Sample data\n",
        "initial_params = [0.5, -0.2, 0.3, -0.1, 0.2, -0.4, 0.1, 1.0]  # Initial parameters\n",
        "\n",
        "# Calculate conditional log likelihood\n",
        "conditional_ll = ar7_conditional_likelihood(initial_params, data)\n",
        "print(\"Conditional Log Likelihood:\", conditional_ll)\n",
        "\n",
        "# Calculate unconditional log likelihood\n",
        "unconditional_ll = ar7_unconditional_likelihood(initial_params, data)\n",
        "print(\"Unconditional Log Likelihood:\", unconditional_ll)\n"
      ]
    },
    {
      "cell_type": "code",
      "execution_count": 3,
      "metadata": {
        "colab": {
          "base_uri": "https://localhost:8080/"
        },
        "id": "Cqwntpx-66iM",
        "outputId": "00209504-3f95-4efb-d730-0ac15b404815"
      },
      "outputs": [
        {
          "output_type": "stream",
          "name": "stdout",
          "text": [
            "Conditional Likelihood Parameters: [ 0.11910609  0.03613495  0.10638868 -0.01024039 -0.0283631  -0.21840062\n",
            "  0.04941569  1.04463373]\n",
            "Unconditional Likelihood Parameters: [ 0.55858841 -0.20696262  0.36436363 -0.09779754  0.1884641  -0.17724524\n",
            "  0.11702908  1.08733089]\n"
          ]
        }
      ],
      "source": [
        "#Maximizing the likelihood\n",
        "from scipy.optimize import minimize\n",
        "\n",
        "# Define negative log likelihood functions (to be minimized)\n",
        "def neg_log_likelihood_conditional(params, data):\n",
        "    return -ar7_conditional_likelihood(params, data)\n",
        "\n",
        "def neg_log_likelihood_unconditional(params, data):\n",
        "    return -ar7_unconditional_likelihood(params, data)\n",
        "\n",
        "# Example usage:\n",
        "# Define some sample data\n",
        "data = np.random.normal(size=100)  # Sample data\n",
        "\n",
        "# Initial parameter guess\n",
        "initial_params = [0.5, -0.2, 0.3, -0.1, 0.2, -0.4, 0.1, 1.0]\n",
        "\n",
        "# Maximize conditional likelihood\n",
        "result_conditional = minimize(neg_log_likelihood_conditional, initial_params, args=(data,), method='Nelder-Mead')\n",
        "print(\"Conditional Likelihood Parameters:\", result_conditional.x)\n",
        "\n",
        "# Maximize unconditional likelihood\n",
        "result_unconditional = minimize(neg_log_likelihood_unconditional, initial_params, args=(data,), method='Nelder-Mead')\n",
        "print(\"Unconditional Likelihood Parameters:\", result_unconditional.x)\n"
      ]
    },
    {
      "cell_type": "code",
      "execution_count": null,
      "metadata": {
        "colab": {
          "base_uri": "https://localhost:8080/"
        },
        "id": "2OvKuQ8S7I6v",
        "outputId": "8651cd77-9991-40d5-fd4e-bfc6c9167dd8"
      },
      "outputs": [
        {
          "output_type": "stream",
          "name": "stdout",
          "text": [
            "Maximized Conditional Likelihood Parameters: [-1.05849043e+50  1.06746350e+49 -1.73462824e+49  2.64622188e+49\n",
            "  2.68764340e+49 -4.69880006e+49 -3.21491762e+49  6.97645179e+50]\n",
            "Maximized Unconditional Likelihood Parameters: [-1.05849043e+50  1.06746350e+49 -1.73462824e+49  2.64622188e+49\n",
            "  2.68764340e+49 -4.69880006e+49 -3.21491762e+49  6.97645179e+50]\n"
          ]
        }
      ],
      "source": [
        "#Parameter Estimation\n",
        "import numpy as np\n",
        "import pandas as pd\n",
        "from scipy.optimize import minimize\n",
        "\n",
        "# Step 1: Data Preprocessing\n",
        "# Load FRED-MD dataset\n",
        "data = pd.read_csv('/content/current.csv')  # Replace 'path_to_your_dataset.csv' with the actual path\n",
        "\n",
        "# Assuming 'INDPRO' is the column name for the INDPRO variable\n",
        "indpro = data['INDPRO']\n",
        "\n",
        "# Calculate monthly log differences\n",
        "log_diff_indpro = np.log(indpro).diff().dropna()\n",
        "\n",
        "# Step 2: Likelihood Functions\n",
        "def ar7_conditional_likelihood(params, data):\n",
        "    phi, sigma_sq = params[:7], params[7]\n",
        "    n = len(data)\n",
        "    ll = 0\n",
        "    for t in range(7, n):\n",
        "        yt = data[t]\n",
        "        mu_t = np.dot(phi, data[t-7:t][::-1])  # Reverse the order to align with AR(7) formula\n",
        "        ll += -0.5 * (np.log(2 * np.pi * sigma_sq) + (yt - mu_t)**2 / sigma_sq)\n",
        "    return ll\n",
        "\n",
        "def ar7_unconditional_likelihood(params, data):\n",
        "    phi, sigma_sq = params[:7], params[7]\n",
        "    n = len(data)\n",
        "    mu0 = np.mean(data[:7])  # Initial mean\n",
        "    ll = -0.5 * (7 * np.log(2 * np.pi * sigma_sq) + np.sum((data[:7] - mu0)**2) / sigma_sq)\n",
        "    for t in range(7, n):\n",
        "        yt = data[t]\n",
        "        mu_t = np.dot(phi, data[t-7:t][::-1])  # Reverse the order to align with AR(7) formula\n",
        "        ll += -0.5 * (np.log(2 * np.pi * sigma_sq) + (yt - mu_t)**2 / sigma_sq)\n",
        "    return ll\n",
        "\n",
        "# Step 3: Parameter Estimation\n",
        "# Initial parameter guess\n",
        "initial_params = np.array([0.5, -0.2, 0.3, -0.1, 0.2, -0.4, 0.1, 1.0])\n",
        "\n",
        "# Maximize conditional likelihood\n",
        "result_conditional = minimize(ar7_conditional_likelihood, initial_params, args=(log_diff_indpro,), method='Nelder-Mead')\n",
        "print(\"Maximized Conditional Likelihood Parameters:\", result_conditional.x)\n",
        "\n",
        "# Maximize unconditional likelihood\n",
        "result_unconditional = minimize(ar7_unconditional_likelihood, initial_params, args=(log_diff_indpro,), method='Nelder-Mead')\n",
        "print(\"Maximized Unconditional Likelihood Parameters:\", result_unconditional.x)\n"
      ]
    },
    {
      "cell_type": "code",
      "execution_count": null,
      "metadata": {
        "colab": {
          "base_uri": "https://localhost:8080/"
        },
        "id": "zvnvxdn9ONpu",
        "outputId": "0a6ee0a9-019b-46f2-e8a1-4aeda18fe28e"
      },
      "outputs": [
        {
          "output_type": "stream",
          "name": "stdout",
          "text": [
            "Conditional Forecast: [-4.85355126e+050  1.56037675e+100 -5.01648269e+149  1.61275786e+199\n",
            " -5.18488365e+248  1.66689738e+298             -inf              nan]\n",
            "Unconditional Forecast: [-7.80827157e+050  2.51029498e+100 -8.07039157e+149  2.59456440e+199\n",
            " -8.34131081e+248  2.68166271e+298             -inf              nan]\n"
          ]
        }
      ],
      "source": [
        "#Forecasting\n",
        "import numpy as np\n",
        "\n",
        "# Function to forecast future values\n",
        "def forecast_ar7(params, data, steps):\n",
        "    # Extract parameters\n",
        "    phi = params[:7]\n",
        "    sigma = params[7]\n",
        "\n",
        "    # Initialize forecast array with observed data\n",
        "    forecast = np.copy(data)\n",
        "\n",
        "    # Forecast future values\n",
        "    for i in range(steps):\n",
        "        forecast_next = np.dot(phi, forecast[-7:]) + np.random.normal(0, sigma)\n",
        "        forecast = np.append(forecast, forecast_next)\n",
        "\n",
        "    return forecast\n",
        "\n",
        "# Forecast using conditional likelihood parameters\n",
        "conditional_forecast = forecast_ar7(result_conditional.x, log_diff_indpro, 8)\n",
        "print(\"Conditional Forecast:\", conditional_forecast[-8:])\n",
        "\n",
        "# Forecast using unconditional likelihood parameters\n",
        "unconditional_forecast = forecast_ar7(result_unconditional.x, log_diff_indpro, 8)\n",
        "print(\"Unconditional Forecast:\", unconditional_forecast[-8:])\n"
      ]
    }
  ],
  "metadata": {
    "colab": {
      "provenance": []
    },
    "kernelspec": {
      "display_name": "Python 3",
      "name": "python3"
    },
    "language_info": {
      "name": "python"
    }
  },
  "nbformat": 4,
  "nbformat_minor": 0
}